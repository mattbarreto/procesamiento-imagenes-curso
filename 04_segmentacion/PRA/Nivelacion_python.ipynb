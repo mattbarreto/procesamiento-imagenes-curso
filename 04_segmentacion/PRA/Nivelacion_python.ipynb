{
  "nbformat": 4,
  "nbformat_minor": 0,
  "metadata": {
    "colab": {
      "provenance": []
    },
    "kernelspec": {
      "name": "python3",
      "display_name": "Python 3"
    },
    "language_info": {
      "name": "python"
    }
  },
  "cells": [
    {
      "cell_type": "markdown",
      "source": [
        "## VARIABLES Y TIPOS DE DATOS"
      ],
      "metadata": {
        "id": "ktFzbf2wLwOc"
      }
    },
    {
      "cell_type": "code",
      "execution_count": null,
      "metadata": {
        "id": "X31-UShYKyYy"
      },
      "outputs": [],
      "source": [
        "varible = 1 #entero\n",
        "variable2 = 'text' #texto o string\n",
        "variable3 = 1.5 # flotante o decimal"
      ]
    },
    {
      "cell_type": "markdown",
      "source": [
        "## PROFUNDIZANDO EN TIPOS DE DATOS"
      ],
      "metadata": {
        "id": "bQxT7TGYOCmc"
      }
    },
    {
      "cell_type": "markdown",
      "source": [
        "### STRING"
      ],
      "metadata": {
        "id": "KEeHZ25lONg8"
      }
    },
    {
      "cell_type": "code",
      "source": [
        "#variable = 'hola'\n",
        "\n",
        "#variable.upper()  # 'HOLA'\n",
        "\n",
        "#'HOLA'.lower()  # 'hola'\n",
        "\n",
        "#'  hola  '.strip()  # 'hola'\n",
        "\n",
        "#'hola mundo'.replace('mundo', 'Python')  # 'hola Python'\n",
        "\n",
        "#'uno dos tres'.split()  # ['uno', 'dos', 'tres']\n",
        "\n",
        "#'hola mundo'.find('mundo')  # 5\n",
        "\n",
        "#'-'.join(['a', 'b', 'c'])  # 'a-b-c'"
      ],
      "metadata": {
        "id": "If2dYpv_OGQc"
      },
      "execution_count": null,
      "outputs": []
    },
    {
      "cell_type": "markdown",
      "source": [
        "### ENTEROS Y FLOTANTES"
      ],
      "metadata": {
        "id": "5S0aescvOQKE"
      }
    },
    {
      "cell_type": "code",
      "source": [
        "# Si bien estos tipos de datos no poseen métodos interesantes para el enfoque de esta demostración, poseen las caracteristicas de poder\n",
        "# relizar operaciones numericas entre ellos, además de poder ser utilizadon por funciones built in como veremos más adelante"
      ],
      "metadata": {
        "id": "86B_DMTCOU_U"
      },
      "execution_count": null,
      "outputs": []
    },
    {
      "cell_type": "markdown",
      "source": [
        "## FUNCIONES BUILT IN"
      ],
      "metadata": {
        "id": "IZqC4gMhNaRc"
      }
    },
    {
      "cell_type": "markdown",
      "source": [
        "### DE ENTRADA/SALIDA"
      ],
      "metadata": {
        "id": "HyTkJfMiOx2s"
      }
    },
    {
      "cell_type": "code",
      "source": [
        "#print('hola gente del ifts24') # hola gente del ifts24\n",
        "\n",
        "\n",
        "#input('Como estan?') # Como estan?\n"
      ],
      "metadata": {
        "id": "jj4tadFRO2MN"
      },
      "execution_count": null,
      "outputs": []
    },
    {
      "cell_type": "markdown",
      "source": [
        "### PARA USO NUMERICO"
      ],
      "metadata": {
        "id": "jBn65RskPEfc"
      }
    },
    {
      "cell_type": "code",
      "source": [
        "# len(lista)\n",
        "\n",
        "# type(variable)\n",
        "\n",
        "# sum(lista)\n",
        "\n",
        "# min(lista)\n",
        "\n",
        "# max(lista)\n",
        "\n",
        "# sorted(lista)\n",
        "\n",
        "# abs(-5)\n",
        "\n",
        "# pow(3,3)\n",
        "\n",
        "# numero = 10\n",
        "# isinstance(numero, str)"
      ],
      "metadata": {
        "id": "7MEpQltrPHCU"
      },
      "execution_count": null,
      "outputs": []
    },
    {
      "cell_type": "markdown",
      "source": [
        "### DE CASTEO"
      ],
      "metadata": {
        "id": "6CdWxxYxOutc"
      }
    },
    {
      "cell_type": "code",
      "source": [
        "#numero_str = '5'\n",
        "#numero_entero = int(numero_str)\n",
        "#print(type(numero_entero))\n",
        "\n",
        "\n",
        "#numero_int = 5\n",
        "#numero_str = str(numero_int)\n",
        "#print(type(numero_str))\n",
        "\n",
        "\n",
        "#numero_decimal = 1.5\n",
        "#numero_entero = int(numero_decimal)\n",
        "#print(numero_entero)"
      ],
      "metadata": {
        "id": "_bQHcJ3EOG2M"
      },
      "execution_count": null,
      "outputs": []
    },
    {
      "cell_type": "markdown",
      "source": [
        "## COLECCIONES"
      ],
      "metadata": {
        "id": "DAJ9VwLPSNqe"
      }
    },
    {
      "cell_type": "markdown",
      "source": [
        "### LISTAS"
      ],
      "metadata": {
        "id": "GBu8kmFzSXl2"
      }
    },
    {
      "cell_type": "code",
      "source": [
        "# lista.append(valor)\n",
        "\n",
        "# lista.extend(lista)\n",
        "\n",
        "# lista.insert(indice, valor)\n",
        "\n",
        "# lista.remove(valor)\n",
        "\n",
        "# lista.pop(indice)\n",
        "\n",
        "# lista.clear()\n",
        "\n",
        "# lista.count(valor)\n",
        "\n",
        "# ojo al piojo con estos dos ultimos\n",
        "\n",
        "# lista.sort() # se efectura directamente sobre la lista y no se guarda en una variable nueva\n",
        "\n",
        "# lista.reverse() # se efectura directamente sobre la lista y no se guarda en una variable nueva\n"
      ],
      "metadata": {
        "id": "XSpQCvcvSb9G"
      },
      "execution_count": null,
      "outputs": []
    },
    {
      "cell_type": "markdown",
      "source": [
        "### TUPLAS"
      ],
      "metadata": {
        "id": "k0OGaWuKUYG-"
      }
    },
    {
      "cell_type": "code",
      "source": [
        "# tupla.index(valor)\n",
        "\n",
        "# tupla.count(valor)"
      ],
      "metadata": {
        "id": "NsaCAGSpUZiO"
      },
      "execution_count": null,
      "outputs": []
    },
    {
      "cell_type": "markdown",
      "source": [
        "### DICCIONARIO"
      ],
      "metadata": {
        "id": "UXjmn-tVUj0G"
      }
    },
    {
      "cell_type": "code",
      "source": [
        "# [] -> listas  //  () -> tuplas  //  {} -> diccionario\n",
        "\n",
        "# diccionario['llave'] = valor  # agrega un nuevo item al diccionario\n",
        "\n",
        "# del diccionario['llave']  # elimina el item correspondiente a esa llave\n",
        "\n",
        "# diccionario.keys()  # devuelve las llaves de ese diccionario\n",
        "\n",
        "# diccionario.values()  # devuelve los valores de ese diccionario\n",
        "\n",
        "# diccionario.items())  # devuelve los items(llaves y valores) de ese diccionario\n",
        "\n",
        "# diccionario_copia = diccionario.copy()  # crea una copia de ese diccionario\n",
        "\n",
        "# diccionario.update(otro_diccionario) # actualiza los datos del diccionario con los del otro diccionario\n",
        "\n"
      ],
      "metadata": {
        "id": "LaL8OvB1Ulz-"
      },
      "execution_count": null,
      "outputs": []
    },
    {
      "cell_type": "markdown",
      "source": [
        "### CONJUNTOS"
      ],
      "metadata": {
        "id": "IDmso3h8V5t3"
      }
    },
    {
      "cell_type": "code",
      "source": [
        "# [] -> listas  //  () -> tuplas  //  {} -> diccionario  // {} -> sets\n",
        "\n",
        "# conjunto.add(valor) # agrega un valor al conjunto\n",
        "\n",
        "# conjunto.pop # elminar el primer valor del conjunto\n",
        "\n",
        "# conjunto.remove(valor) # elimina un valor del conjunto (arroja error si no existe)\n",
        "\n",
        "# conjunto.discard(valor)\t# elimina un valor del conjunto (NO arroja error si no existe)\n",
        "\n",
        "# conjunto.clear() # elimina todos los elemntos del conjunto\n",
        "\n",
        "# union = conjunto.union(otro_conjunto) # suma ambos conjuntos (no duplica valores)\n",
        "\n",
        "# interseccion = conjunto.intersection(otro_conjunto) # muestra que valores se repiten en ambos conjuntos"
      ],
      "metadata": {
        "id": "-0LzzZ-EV8zv"
      },
      "execution_count": null,
      "outputs": []
    },
    {
      "cell_type": "markdown",
      "source": [
        "### MATRICES"
      ],
      "metadata": {
        "id": "vPDvVqniVqi_"
      }
    },
    {
      "cell_type": "code",
      "source": [
        "matriz = [[-1,-2,-1],\n",
        "          [0 , 0, 0],\n",
        "          [1 , 2, 1]] # a que se parece esto ?"
      ],
      "metadata": {
        "id": "pXTQ40E9WMe-"
      },
      "execution_count": null,
      "outputs": []
    }
  ]
}