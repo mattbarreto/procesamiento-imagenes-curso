{
  "cells": [
    {
      "cell_type": "code",
      "source": [
        "import cv2\n",
        "import numpy as np\n",
        "import matplotlib.pyplot as plt"
      ],
      "metadata": {
        "id": "HcEKpqRHE6JL"
      },
      "execution_count": 1,
      "outputs": []
    },
    {
      "cell_type": "code",
      "source": [
        "# --- Crear una imagen simple con un objeto ---\n",
        "imagen = np.zeros((200, 300), dtype=np.uint8)\n",
        "# Dibujar una forma blanca (ej., un polígono)\n",
        "puntos = np.array([[50, 50], [200, 70], [180, 150], [40, 120]], np.int32)\n",
        "puntos = puntos.reshape((-1, 1, 2))\n",
        "cv2.fillPoly(imagen, [puntos], 255) # Rellenar el polígono con blanco"
      ],
      "metadata": {
        "colab": {
          "base_uri": "https://localhost:8080/",
          "height": 240
        },
        "id": "vz8CFsJOE6Ge",
        "outputId": "32091beb-5d37-439f-ed45-70e82637cad3"
      },
      "execution_count": 2,
      "outputs": [
        {
          "output_type": "execute_result",
          "data": {
            "text/plain": [
              "array([[0, 0, 0, ..., 0, 0, 0],\n",
              "       [0, 0, 0, ..., 0, 0, 0],\n",
              "       [0, 0, 0, ..., 0, 0, 0],\n",
              "       ...,\n",
              "       [0, 0, 0, ..., 0, 0, 0],\n",
              "       [0, 0, 0, ..., 0, 0, 0],\n",
              "       [0, 0, 0, ..., 0, 0, 0]], dtype=uint8)"
            ],
            "text/html": [
              "<style>\n",
              "      .ndarray_repr .ndarray_raw_data {\n",
              "        display: none;\n",
              "      }\n",
              "      .ndarray_repr.show_array .ndarray_raw_data {\n",
              "        display: block;\n",
              "      }\n",
              "      .ndarray_repr.show_array .ndarray_image_preview {\n",
              "        display: none;\n",
              "      }\n",
              "      </style>\n",
              "      <div id=\"id-4e6cf66b-3577-4126-9238-29b52e24e1df\" class=\"ndarray_repr\"><pre>ndarray (200, 300) <button style=\"padding: 0 2px;\">show data</button></pre><img src=\"data:image/png;base64,iVBORw0KGgoAAAANSUhEUgAAASwAAADICAAAAAB3tIOJAAACSElEQVR4nO3dQVLDMBBE0Yb73zksiMOCCngkqzUz/m9vy/klUiKxFQkAAAAAAAAAAAAAAAAAAAAAAAAAAABY4SN+yGPssAYGY00cXthkrPGzVHRNrImzVRJ/eX+0Gj9pDUtijZ88t6WxhsdIyhFrfKxknLGGh8xiQ6zxoXfbGGv4CrYJX+rVrV4KRMsT6ylzs3SxDhmjpY31lKpZ9liHFNGqxHra26xYrMOeaNFRc7Q6mJvVjnUwResRS7IE+1w/RB9tYjn+EtvEciBWQDBW3vd3hy4zy7J46BLLglgBxApoEsvz/06TWB6xWPdeOTCzInrEMn1E0yOWCbECiBXQIpbro/hQrJuvHHrMLBdiBXSIZfv2sEMsG2IFECsgEivpysF3wwMzK4BYAcQKqB/LeI9W/VhGxAoIxEq6cjAqP7Oct5WWj+VErABiBVSPZb0Tvnosq/OxWDkwsyKKx/I+vFM8lhexAogVUDuW+XnD07FYOVSfWWbECigdy/1YeWS8dG9bmWNJylUsfSwpT7ASsSRlKGbfCWNywK3FqsWSNgarGEvSnmJlY0lyF/Nv3nP5iL5gDWJJMhXrEktSx60UF4+4MNiG/cYcQ64p1jSWpAXFOseSLg7WPZaky4rt2CJx016W88VuFEuaDXazWJImit0xlqShYluuO0UsKRzs3rEkRYoR69upYsT68V+wGhtRO6X7UbLMsSS9K0ast34HI9bfEvwGZZ1Ykl7FiHXWo+RVAwAAAAAAAAAAAAAAAAAAAAAAAAAA3M4XJRc6npwHK38AAAAASUVORK5CYII=\" class=\"ndarray_image_preview\" /><pre class=\"ndarray_raw_data\">array([[0, 0, 0, ..., 0, 0, 0],\n",
              "       [0, 0, 0, ..., 0, 0, 0],\n",
              "       [0, 0, 0, ..., 0, 0, 0],\n",
              "       ...,\n",
              "       [0, 0, 0, ..., 0, 0, 0],\n",
              "       [0, 0, 0, ..., 0, 0, 0],\n",
              "       [0, 0, 0, ..., 0, 0, 0]], dtype=uint8)</pre></div><script>\n",
              "      (() => {\n",
              "      const titles = ['show data', 'hide data'];\n",
              "      let index = 0\n",
              "      document.querySelector('#id-4e6cf66b-3577-4126-9238-29b52e24e1df button').onclick = (e) => {\n",
              "        document.querySelector('#id-4e6cf66b-3577-4126-9238-29b52e24e1df').classList.toggle('show_array');\n",
              "        index = (++index) % 2;\n",
              "        document.querySelector('#id-4e6cf66b-3577-4126-9238-29b52e24e1df button').textContent = titles[index];\n",
              "        e.preventDefault();\n",
              "        e.stopPropagation();\n",
              "      }\n",
              "      })();\n",
              "    </script>"
            ]
          },
          "metadata": {},
          "execution_count": 2
        }
      ]
    },
    {
      "cell_type": "code",
      "source": [
        "# --- Simular segmentación (ya hecha en este caso simple) ---\n",
        "# En un escenario real, esto sería el resultado de umbralización, detección de bordes, etc.\n",
        "# Asumimos que el objeto es blanco (255) y el fondo es negro (0)\n",
        "imagen_segmentada = imagen"
      ],
      "metadata": {
        "id": "T5NiacJ0E6Dq"
      },
      "execution_count": 3,
      "outputs": []
    },
    {
      "cell_type": "code",
      "source": [
        "# --- Encontrar Contornos ---\n",
        "# cv2.RETR_EXTERNAL encuentra solo los contornos exteriores\n",
        "# cv2.CHAIN_APPROX_SIMPLE comprime segmentos, dejando solo sus puntos finales.\n",
        "contornos, jerarquia = cv2.findContours(imagen_segmentada, cv2.RETR_EXTERNAL, cv2.CHAIN_APPROX_SIMPLE)"
      ],
      "metadata": {
        "id": "T9U2P80zE6A9"
      },
      "execution_count": 4,
      "outputs": []
    },
    {
      "cell_type": "code",
      "source": [
        "# --- Procesar el/los contorno(s) encontrado(s) ---\n",
        "# Crear una imagen a color para dibujar los resultados\n",
        "imagen_color = cv2.cvtColor(imagen, cv2.COLOR_GRAY2BGR)"
      ],
      "metadata": {
        "id": "vexKouhLE5-K"
      },
      "execution_count": 5,
      "outputs": []
    },
    {
      "cell_type": "code",
      "source": [
        "print(\"\\n--- Celda 2: Selección de Contorno y Cálculo de Momentos ---\")\n",
        "if contornos:\n",
        "    # Seleccionar el contorno más grande\n",
        "    contorno_actual = max(contornos, key=cv2.contourArea)\n",
        "    print(\"Contorno más grande seleccionado.\")\n",
        "\n",
        "    # Calcular Momentos Geométricos\n",
        "    momentos = cv2.moments(contorno_actual)\n",
        "    print(\"Momentos Geométricos calculados:\")\n",
        "    # Imprimir algunos momentos clave para ilustrar\n",
        "    print(f\"  m00 (área aprox.): {momentos['m00']:.2f}\")\n",
        "    print(f\"  m10: {momentos['m10']:.2f}\")\n",
        "    print(f\"  m01: {momentos['m01']:.2f}\")\n",
        "\n",
        "    # --- Celda 3: Calcular Centroide ---\n",
        "    print(\"\\n--- Celda 3: Cálculo del Centroide ---\")\n",
        "    centroide_x = centroide_y = -1 # Valores por defecto\n",
        "    if momentos[\"m00\"] != 0:\n",
        "        centroide_x = int(momentos[\"m10\"] / momentos[\"m00\"])\n",
        "        centroide_y = int(momentos[\"m01\"] / momentos[\"m00\"])\n",
        "        print(f\"Centroide calculado: ({centroide_x}, {centroide_y})\")\n",
        "    else:\n",
        "        print(\"Advertencia: El área del contorno (m00) es cero, no se puede calcular el centroide.\")\n",
        "\n",
        "    # --- Celda 4: Calcular Área ---\n",
        "    print(\"\\n--- Celda 4: Cálculo del Área ---\")\n",
        "    area = cv2.contourArea(contorno_actual)\n",
        "    print(f\"Área calculada (cv2.contourArea): {area:.2f} píxeles cuadrados\")\n",
        "\n",
        "    # --- Celda 5: Calcular Perímetro ---\n",
        "    print(\"\\n--- Celda 5: Cálculo del Perímetro ---\")\n",
        "    perimetro = cv2.arcLength(contorno_actual, True) # True indica contorno cerrado\n",
        "    print(f\"Perímetro calculado (cv2.arcLength): {perimetro:.2f} píxeles\")\n",
        "\n",
        "    # --- Celda 6: Dibujar Resultados en la Imagen ---\n",
        "    print(\"\\n--- Celda 6: Dibujando Contorno y Centroide ---\")\n",
        "    # Dibujar el contorno mismo (línea verde)\n",
        "    cv2.drawContours(imagen_color, [contorno_actual], -1, (0, 255, 0), 2)\n",
        "    print(\"Contorno dibujado en verde.\")\n",
        "\n",
        "    # Dibujar el centroide (círculo rojo)\n",
        "    if centroide_x != -1 and centroide_y != -1:\n",
        "      cv2.circle(imagen_color, (centroide_x, centroide_y), 5, (0, 0, 255), -1)\n",
        "      print(\"Centroide dibujado en rojo.\")\n",
        "    else:\n",
        "      print(\"Centroide no dibujado (no calculado).\")\n",
        "\n",
        "    # --- Celda 7: Mostrar Imagen Final con Información ---\n",
        "    print(\"\\n--- Celda 7: Mostrando Imagen Final ---\")\n",
        "    plt.figure(figsize=(8, 6))\n",
        "    plt.imshow(cv2.cvtColor(imagen_color, cv2.COLOR_BGR2RGB)) # Convertir BGR a RGB\n",
        "    plt.title('Contorno y Propiedades')\n",
        "    plt.axis('off')\n",
        "\n",
        "    # Añadir información de texto\n",
        "    texto_info = f\"Área: {area:.2f}\\nPerímetro: {perimetro:.2f}\\nCentroide: ({centroide_x}, {centroide_y})\"\n",
        "    plt.text(10, imagen.shape[0] + 30, texto_info, color='black', fontsize=10,\n",
        "             bbox=dict(facecolor='white', alpha=0.8))\n",
        "\n",
        "    plt.tight_layout()\n",
        "    plt.show()\n",
        "    print(\"Imagen final mostrada.\")\n",
        "\n",
        "    # --- Resumen Final (Opcional, podría estar en Celda 7) ---\n",
        "    print(\"\\n--- Resumen Final de Propiedades ---\")\n",
        "    print(f\"  - Área: {area:.2f} píxeles cuadrados\")\n",
        "    print(f\"  - Perímetro: {perimetro:.2f} píxeles\")\n",
        "    if centroide_x != -1 and centroide_y != -1:\n",
        "      print(f\"  - Centroide: ({centroide_x}, {centroide_y})\")\n",
        "\n",
        "# --- Celda (Alternativa): Manejo si no hay contornos ---\n",
        "elif not contornos: # Se ejecuta si la lista 'contornos' está vacía\n",
        "    print(\"\\n--- No se encontraron contornos ---\")\n",
        "    plt.imshow(imagen, cmap='gray')\n",
        "    plt.title('Imagen Original (sin contornos)')\n",
        "    plt.axis('off')\n",
        "    plt.show()\n",
        "    print(\"Mostrando imagen original.\")\n"
      ],
      "metadata": {
        "colab": {
          "base_uri": "https://localhost:8080/",
          "height": 1000
        },
        "id": "p4Dlh0DKE57I",
        "outputId": "f38ecef5-b1af-44a9-ebdb-710ddc68b8d5"
      },
      "execution_count": 12,
      "outputs": [
        {
          "output_type": "stream",
          "name": "stdout",
          "text": [
            "\n",
            "--- Celda 2: Selección de Contorno y Cálculo de Momentos ---\n",
            "Contorno más grande seleccionado.\n",
            "Momentos Geométricos calculados:\n",
            "  m00 (área aprox.): 11235.00\n",
            "  m10: 1340730.00\n",
            "  m01: 1094905.83\n",
            "\n",
            "--- Celda 3: Cálculo del Centroide ---\n",
            "Centroide calculado: (119, 97)\n",
            "\n",
            "--- Celda 4: Cálculo del Área ---\n",
            "Área calculada (cv2.contourArea): 11235.00 píxeles cuadrados\n",
            "\n",
            "--- Celda 5: Cálculo del Perímetro ---\n",
            "Perímetro calculado (cv2.arcLength): 473.14 píxeles\n",
            "\n",
            "--- Celda 6: Dibujando Contorno y Centroide ---\n",
            "Contorno dibujado en verde.\n",
            "Centroide dibujado en rojo.\n",
            "\n",
            "--- Celda 7: Mostrando Imagen Final ---\n"
          ]
        },
        {
          "output_type": "display_data",
          "data": {
            "text/plain": [
              "<Figure size 800x600 with 1 Axes>"
            ],
            "image/png": "[encoded data removed]"
          },
          "metadata": {}
        },
        {
          "output_type": "stream",
          "name": "stdout",
          "text": [
            "Imagen final mostrada.\n",
            "\n",
            "--- Resumen Final de Propiedades ---\n",
            "  - Área: 11235.00 píxeles cuadrados\n",
            "  - Perímetro: 473.14 píxeles\n",
            "  - Centroide: (119, 97)\n"
          ]
        }
      ]
    }
  ],
  "metadata": {
    "colab": {
      "provenance": []
    },
    "kernelspec": {
      "display_name": "Python 3",
      "name": "python3"
    }
  },
  "nbformat": 4,
  "nbformat_minor": 0
}